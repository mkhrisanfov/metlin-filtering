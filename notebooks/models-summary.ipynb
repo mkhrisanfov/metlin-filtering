{
 "cells": [
  {
   "cell_type": "code",
   "execution_count": 2,
   "metadata": {},
   "outputs": [],
   "source": [
    "from metlin_filtering.models import GNN, CNN, FCFP, FCD\n",
    "from torchinfo import summary\n",
    "import torch"
   ]
  },
  {
   "cell_type": "code",
   "execution_count": 5,
   "metadata": {},
   "outputs": [
    {
     "data": {
      "text/plain": [
       "======================================================================\n",
       "Layer (type:depth-idx)                        Param #\n",
       "======================================================================\n",
       "GNN                                           --\n",
       "├─Embedding: 1-1                              15,616\n",
       "├─Sequential: 1-2                             --\n",
       "│    └─GraphConv: 2-1                         --\n",
       "│    │    └─SumAggregation: 3-1               --\n",
       "│    │    └─Linear: 3-2                       8,320\n",
       "│    │    └─Linear: 3-3                       8,192\n",
       "│    └─LeakyReLU: 2-2                         --\n",
       "│    └─GraphConv: 2-3                         --\n",
       "│    │    └─SumAggregation: 3-4               --\n",
       "│    │    └─Linear: 3-5                       16,512\n",
       "│    │    └─Linear: 3-6                       16,384\n",
       "│    └─LeakyReLU: 2-4                         --\n",
       "├─ModuleList: 1-3                             --\n",
       "│    └─Sequential: 2-5                        --\n",
       "│    │    └─GraphConv: 3-7                    32,896\n",
       "│    │    └─LeakyReLU: 3-8                    --\n",
       "│    │    └─GraphConv: 3-9                    32,896\n",
       "│    │    └─LeakyReLU: 3-10                   --\n",
       "│    └─Sequential: 2-6                        --\n",
       "│    │    └─GraphConv: 3-11                   32,896\n",
       "│    │    └─LeakyReLU: 3-12                   --\n",
       "│    │    └─GraphConv: 3-13                   32,896\n",
       "│    │    └─LeakyReLU: 3-14                   --\n",
       "│    └─Sequential: 2-7                        --\n",
       "│    │    └─GraphConv: 3-15                   32,896\n",
       "│    │    └─LeakyReLU: 3-16                   --\n",
       "│    │    └─GraphConv: 3-17                   32,896\n",
       "│    │    └─LeakyReLU: 3-18                   --\n",
       "│    └─Sequential: 2-8                        --\n",
       "│    │    └─GraphConv: 3-19                   32,896\n",
       "│    │    └─LeakyReLU: 3-20                   --\n",
       "│    │    └─GraphConv: 3-21                   32,896\n",
       "│    │    └─LeakyReLU: 3-22                   --\n",
       "│    └─Sequential: 2-9                        --\n",
       "│    │    └─GraphConv: 3-23                   32,896\n",
       "│    │    └─LeakyReLU: 3-24                   --\n",
       "│    │    └─GraphConv: 3-25                   32,896\n",
       "│    │    └─LeakyReLU: 3-26                   --\n",
       "├─ModuleList: 1-4                             --\n",
       "│    └─Sequential: 2-10                       --\n",
       "│    │    └─Linear: 3-27                      65,792\n",
       "│    │    └─LeakyReLU: 3-28                   --\n",
       "│    │    └─Linear: 3-29                      65,792\n",
       "│    │    └─LeakyReLU: 3-30                   --\n",
       "│    └─Sequential: 2-11                       --\n",
       "│    │    └─Linear: 3-31                      65,792\n",
       "│    │    └─LeakyReLU: 3-32                   --\n",
       "│    │    └─Linear: 3-33                      65,792\n",
       "│    │    └─LeakyReLU: 3-34                   --\n",
       "│    └─Sequential: 2-12                       --\n",
       "│    │    └─Linear: 3-35                      65,792\n",
       "│    │    └─LeakyReLU: 3-36                   --\n",
       "│    │    └─Linear: 3-37                      65,792\n",
       "│    │    └─LeakyReLU: 3-38                   --\n",
       "│    └─Sequential: 2-13                       --\n",
       "│    │    └─Linear: 3-39                      65,792\n",
       "│    │    └─LeakyReLU: 3-40                   --\n",
       "│    │    └─Linear: 3-41                      65,792\n",
       "│    │    └─LeakyReLU: 3-42                   --\n",
       "├─Sequential: 1-5                             --\n",
       "│    └─Linear: 2-14                           257\n",
       "│    └─Identity: 2-15                         --\n",
       "======================================================================\n",
       "Total params: 920,577\n",
       "Trainable params: 920,577\n",
       "Non-trainable params: 0\n",
       "======================================================================"
      ]
     },
     "execution_count": 5,
     "metadata": {},
     "output_type": "execute_result"
    }
   ],
   "source": [
    "summary(GNN(244))"
   ]
  },
  {
   "cell_type": "code",
   "execution_count": 8,
   "metadata": {},
   "outputs": [
    {
     "data": {
      "text/plain": [
       "=================================================================\n",
       "Layer (type:depth-idx)                   Param #\n",
       "=================================================================\n",
       "CNN                                      --\n",
       "├─Embedding: 1-1                         1,088\n",
       "├─Sequential: 1-2                        --\n",
       "│    └─Conv1d: 2-1                       73,984\n",
       "│    └─LeakyReLU: 2-2                    --\n",
       "│    └─Conv1d: 2-3                       590,080\n",
       "│    └─LeakyReLU: 2-4                    --\n",
       "├─Sequential: 1-3                        --\n",
       "│    └─Linear: 2-5                       263,168\n",
       "│    └─LeakyReLU: 2-6                    --\n",
       "│    └─Linear: 2-7                       1,049,600\n",
       "│    └─LeakyReLU: 2-8                    --\n",
       "├─Sequential: 1-4                        --\n",
       "│    └─Linear: 2-9                       1,025\n",
       "│    └─Identity: 2-10                    --\n",
       "=================================================================\n",
       "Total params: 1,978,945\n",
       "Trainable params: 1,978,945\n",
       "Non-trainable params: 0\n",
       "================================================================="
      ]
     },
     "execution_count": 8,
     "metadata": {},
     "output_type": "execute_result"
    }
   ],
   "source": [
    "summary(CNN(34))"
   ]
  },
  {
   "cell_type": "code",
   "execution_count": 9,
   "metadata": {},
   "outputs": [
    {
     "data": {
      "text/plain": [
       "=================================================================\n",
       "Layer (type:depth-idx)                   Param #\n",
       "=================================================================\n",
       "FCFP                                     --\n",
       "├─Sequential: 1-1                        --\n",
       "│    └─Linear: 2-1                       8,392,704\n",
       "│    └─SiLU: 2-2                         --\n",
       "│    └─Linear: 2-3                       8,390,656\n",
       "│    └─SiLU: 2-4                         --\n",
       "├─Sequential: 1-2                        --\n",
       "│    └─Linear: 2-5                       4,196,352\n",
       "│    └─SiLU: 2-6                         --\n",
       "│    └─Linear: 2-7                       4,196,352\n",
       "│    └─SiLU: 2-8                         --\n",
       "├─Sequential: 1-3                        --\n",
       "│    └─Linear: 2-9                       4,196,352\n",
       "│    └─SiLU: 2-10                        --\n",
       "│    └─Linear: 2-11                      4,196,352\n",
       "│    └─SiLU: 2-12                        --\n",
       "├─Sequential: 1-4                        --\n",
       "│    └─Linear: 2-13                      2,049\n",
       "│    └─Identity: 2-14                    --\n",
       "=================================================================\n",
       "Total params: 33,570,817\n",
       "Trainable params: 33,570,817\n",
       "Non-trainable params: 0\n",
       "================================================================="
      ]
     },
     "execution_count": 9,
     "metadata": {},
     "output_type": "execute_result"
    }
   ],
   "source": [
    "summary(FCFP())"
   ]
  },
  {
   "cell_type": "code",
   "execution_count": 10,
   "metadata": {},
   "outputs": [
    {
     "data": {
      "text/plain": [
       "=================================================================\n",
       "Layer (type:depth-idx)                   Param #\n",
       "=================================================================\n",
       "FCD                                      --\n",
       "├─Sequential: 1-1                        --\n",
       "│    └─Linear: 2-1                       432,128\n",
       "│    └─SiLU: 2-2                         --\n",
       "│    └─Linear: 2-3                       4,196,352\n",
       "│    └─SiLU: 2-4                         --\n",
       "├─Sequential: 1-2                        --\n",
       "│    └─Linear: 2-5                       4,196,352\n",
       "│    └─SiLU: 2-6                         --\n",
       "│    └─Linear: 2-7                       4,196,352\n",
       "│    └─SiLU: 2-8                         --\n",
       "├─Sequential: 1-3                        --\n",
       "│    └─Linear: 2-9                       4,196,352\n",
       "│    └─SiLU: 2-10                        --\n",
       "│    └─Linear: 2-11                      4,196,352\n",
       "│    └─SiLU: 2-12                        --\n",
       "├─Sequential: 1-4                        --\n",
       "│    └─Linear: 2-13                      4,196,352\n",
       "│    └─SiLU: 2-14                        --\n",
       "│    └─Linear: 2-15                      4,196,352\n",
       "│    └─SiLU: 2-16                        --\n",
       "├─Sequential: 1-5                        --\n",
       "│    └─Linear: 2-17                      2,049\n",
       "│    └─Identity: 2-18                    --\n",
       "=================================================================\n",
       "Total params: 29,808,641\n",
       "Trainable params: 29,808,641\n",
       "Non-trainable params: 0\n",
       "================================================================="
      ]
     },
     "execution_count": 10,
     "metadata": {},
     "output_type": "execute_result"
    }
   ],
   "source": [
    "summary(FCD())"
   ]
  }
 ],
 "metadata": {
  "kernelspec": {
   "display_name": "metlin-filtering-9fZvOS_o-py3.12",
   "language": "python",
   "name": "python3"
  },
  "language_info": {
   "codemirror_mode": {
    "name": "ipython",
    "version": 3
   },
   "file_extension": ".py",
   "mimetype": "text/x-python",
   "name": "python",
   "nbconvert_exporter": "python",
   "pygments_lexer": "ipython3",
   "version": "3.12.7"
  }
 },
 "nbformat": 4,
 "nbformat_minor": 2
}
